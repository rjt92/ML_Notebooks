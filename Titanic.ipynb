{
 "cells": [
  {
   "cell_type": "markdown",
   "metadata": {},
   "source": [
    "# Titanic Survival Analysis"
   ]
  },
  {
   "cell_type": "markdown",
   "metadata": {},
   "source": [
    "## Problem "
   ]
  },
  {
   "cell_type": "markdown",
   "metadata": {},
   "source": [
    "- Titanic Survival is a binary classification problem, based on numerous features provided for passengers the survival chances\n",
    "for an individual can be predicted, survivors of Titanic were predominately women or men of higher social status (passenger \n",
    "class is a good proxy for socio-economic status), based on these features we can train a ML model to predict likely survivors."
   ]
  },
  {
   "cell_type": "markdown",
   "metadata": {},
   "source": [
    "### 1. Horse Before the Cart : Understanding the problem & data well / Exploratory Data Analysis"
   ]
  },
  {
   "cell_type": "code",
   "execution_count": 1,
   "metadata": {},
   "outputs": [],
   "source": [
    "import pandas as pd\n",
    "import numpy as np\n",
    "import matplotlib.pyplot as plt\n",
    "import seaborn as sns\n",
    "sns.set_style(\"darkgrid\")"
   ]
  },
  {
   "cell_type": "code",
   "execution_count": 2,
   "metadata": {},
   "outputs": [],
   "source": [
    "# loading the data\n",
    "train_df = pd.read_csv(\"train.csv\")\n",
    "test_df = pd.read_csv(\"test.csv\")"
   ]
  },
  {
   "cell_type": "code",
   "execution_count": 3,
   "metadata": {},
   "outputs": [
    {
     "data": {
      "text/html": [
       "<div>\n",
       "<style scoped>\n",
       "    .dataframe tbody tr th:only-of-type {\n",
       "        vertical-align: middle;\n",
       "    }\n",
       "\n",
       "    .dataframe tbody tr th {\n",
       "        vertical-align: top;\n",
       "    }\n",
       "\n",
       "    .dataframe thead th {\n",
       "        text-align: right;\n",
       "    }\n",
       "</style>\n",
       "<table border=\"1\" class=\"dataframe\">\n",
       "  <thead>\n",
       "    <tr style=\"text-align: right;\">\n",
       "      <th></th>\n",
       "      <th>PassengerId</th>\n",
       "      <th>Survived</th>\n",
       "      <th>Pclass</th>\n",
       "      <th>Name</th>\n",
       "      <th>Sex</th>\n",
       "      <th>Age</th>\n",
       "      <th>SibSp</th>\n",
       "      <th>Parch</th>\n",
       "      <th>Ticket</th>\n",
       "      <th>Fare</th>\n",
       "      <th>Cabin</th>\n",
       "      <th>Embarked</th>\n",
       "    </tr>\n",
       "  </thead>\n",
       "  <tbody>\n",
       "    <tr>\n",
       "      <th>0</th>\n",
       "      <td>1</td>\n",
       "      <td>0</td>\n",
       "      <td>3</td>\n",
       "      <td>Braund, Mr. Owen Harris</td>\n",
       "      <td>male</td>\n",
       "      <td>22.0</td>\n",
       "      <td>1</td>\n",
       "      <td>0</td>\n",
       "      <td>A/5 21171</td>\n",
       "      <td>7.2500</td>\n",
       "      <td>NaN</td>\n",
       "      <td>S</td>\n",
       "    </tr>\n",
       "    <tr>\n",
       "      <th>1</th>\n",
       "      <td>2</td>\n",
       "      <td>1</td>\n",
       "      <td>1</td>\n",
       "      <td>Cumings, Mrs. John Bradley (Florence Briggs Th...</td>\n",
       "      <td>female</td>\n",
       "      <td>38.0</td>\n",
       "      <td>1</td>\n",
       "      <td>0</td>\n",
       "      <td>PC 17599</td>\n",
       "      <td>71.2833</td>\n",
       "      <td>C85</td>\n",
       "      <td>C</td>\n",
       "    </tr>\n",
       "    <tr>\n",
       "      <th>2</th>\n",
       "      <td>3</td>\n",
       "      <td>1</td>\n",
       "      <td>3</td>\n",
       "      <td>Heikkinen, Miss. Laina</td>\n",
       "      <td>female</td>\n",
       "      <td>26.0</td>\n",
       "      <td>0</td>\n",
       "      <td>0</td>\n",
       "      <td>STON/O2. 3101282</td>\n",
       "      <td>7.9250</td>\n",
       "      <td>NaN</td>\n",
       "      <td>S</td>\n",
       "    </tr>\n",
       "  </tbody>\n",
       "</table>\n",
       "</div>"
      ],
      "text/plain": [
       "   PassengerId  Survived  Pclass  \\\n",
       "0            1         0       3   \n",
       "1            2         1       1   \n",
       "2            3         1       3   \n",
       "\n",
       "                                                Name     Sex   Age  SibSp  \\\n",
       "0                            Braund, Mr. Owen Harris    male  22.0      1   \n",
       "1  Cumings, Mrs. John Bradley (Florence Briggs Th...  female  38.0      1   \n",
       "2                             Heikkinen, Miss. Laina  female  26.0      0   \n",
       "\n",
       "   Parch            Ticket     Fare Cabin Embarked  \n",
       "0      0         A/5 21171   7.2500   NaN        S  \n",
       "1      0          PC 17599  71.2833   C85        C  \n",
       "2      0  STON/O2. 3101282   7.9250   NaN        S  "
      ]
     },
     "execution_count": 3,
     "metadata": {},
     "output_type": "execute_result"
    }
   ],
   "source": [
    "train_df.head(3)"
   ]
  },
  {
   "cell_type": "code",
   "execution_count": 4,
   "metadata": {},
   "outputs": [
    {
     "name": "stdout",
     "output_type": "stream",
     "text": [
      "<class 'pandas.core.frame.DataFrame'>\n",
      "RangeIndex: 891 entries, 0 to 890\n",
      "Data columns (total 12 columns):\n",
      " #   Column       Non-Null Count  Dtype  \n",
      "---  ------       --------------  -----  \n",
      " 0   PassengerId  891 non-null    int64  \n",
      " 1   Survived     891 non-null    int64  \n",
      " 2   Pclass       891 non-null    int64  \n",
      " 3   Name         891 non-null    object \n",
      " 4   Sex          891 non-null    object \n",
      " 5   Age          714 non-null    float64\n",
      " 6   SibSp        891 non-null    int64  \n",
      " 7   Parch        891 non-null    int64  \n",
      " 8   Ticket       891 non-null    object \n",
      " 9   Fare         891 non-null    float64\n",
      " 10  Cabin        204 non-null    object \n",
      " 11  Embarked     889 non-null    object \n",
      "dtypes: float64(2), int64(5), object(5)\n",
      "memory usage: 83.7+ KB\n"
     ]
    }
   ],
   "source": [
    "train_df.info()"
   ]
  },
  {
   "cell_type": "code",
   "execution_count": 5,
   "metadata": {},
   "outputs": [
    {
     "name": "stdout",
     "output_type": "stream",
     "text": [
      "<class 'pandas.core.frame.DataFrame'>\n",
      "RangeIndex: 418 entries, 0 to 417\n",
      "Data columns (total 11 columns):\n",
      " #   Column       Non-Null Count  Dtype  \n",
      "---  ------       --------------  -----  \n",
      " 0   PassengerId  418 non-null    int64  \n",
      " 1   Pclass       418 non-null    int64  \n",
      " 2   Name         418 non-null    object \n",
      " 3   Sex          418 non-null    object \n",
      " 4   Age          332 non-null    float64\n",
      " 5   SibSp        418 non-null    int64  \n",
      " 6   Parch        418 non-null    int64  \n",
      " 7   Ticket       418 non-null    object \n",
      " 8   Fare         417 non-null    float64\n",
      " 9   Cabin        91 non-null     object \n",
      " 10  Embarked     418 non-null    object \n",
      "dtypes: float64(2), int64(4), object(5)\n",
      "memory usage: 36.0+ KB\n"
     ]
    }
   ],
   "source": [
    "test_df.info()"
   ]
  },
  {
   "cell_type": "markdown",
   "metadata": {},
   "source": [
    "### Feature Analysis"
   ]
  },
  {
   "cell_type": "markdown",
   "metadata": {},
   "source": [
    "#### A. Pclass Feature Analysis"
   ]
  },
  {
   "cell_type": "code",
   "execution_count": 6,
   "metadata": {},
   "outputs": [
    {
     "data": {
      "text/plain": [
       "<matplotlib.axes._subplots.AxesSubplot at 0x2d02c9e7208>"
      ]
     },
     "execution_count": 6,
     "metadata": {},
     "output_type": "execute_result"
    },
    {
     "data": {
      "image/png": "[encoded data removed]",
      "text/plain": [
       "<Figure size 432x288 with 1 Axes>"
      ]
     },
     "metadata": {},
     "output_type": "display_data"
    }
   ],
   "source": [
    "train_df.pivot_table(values='PassengerId',index='Pclass',columns='Survived',aggfunc='count').plot(kind='bar',stacked = True)"
   ]
  },
  {
   "cell_type": "code",
   "execution_count": 7,
   "metadata": {},
   "outputs": [
    {
     "data": {
      "text/plain": [
       "<matplotlib.axes._subplots.AxesSubplot at 0x2d02d16c488>"
      ]
     },
     "execution_count": 7,
     "metadata": {},
     "output_type": "execute_result"
    },
    {
     "data": {
      "image/png": "[encoded data removed]",
      "text/plain": [
       "<Figure size 432x288 with 1 Axes>"
      ]
     },
     "metadata": {},
     "output_type": "display_data"
    }
   ],
   "source": [
    "sns.barplot(x=train_df['Pclass'],y=train_df['Survived'])"
   ]
  },
  {
   "cell_type": "markdown",
   "metadata": {},
   "source": [
    "- pclass is a good predictor for survival chances, also it has no missing values"
   ]
  },
  {
   "cell_type": "markdown",
   "metadata": {},
   "source": [
    "#### B. Name Feature Analysis"
   ]
  },
  {
   "cell_type": "markdown",
   "metadata": {},
   "source": [
    "- An important clue that can be extracted from the names is title which can be extracted and binned into categories which\n",
    "can provide some prediction power to model"
   ]
  },
  {
   "cell_type": "code",
   "execution_count": 8,
   "metadata": {},
   "outputs": [],
   "source": [
    "# making the title splitter function\n",
    "def splitter(arg):\n",
    "    \"\"\"\n",
    "    Extracts the title from name column\n",
    "    \"\"\"\n",
    "    arg_1 = arg.split(\",\")\n",
    "    arg_2 = arg_1.pop()\n",
    "    arg_3 = arg_2.split(\".\")\n",
    "    title = arg_3[0]\n",
    "    return title"
   ]
  },
  {
   "cell_type": "code",
   "execution_count": 9,
   "metadata": {},
   "outputs": [
    {
     "data": {
      "text/plain": [
       "' Master'"
      ]
     },
     "execution_count": 9,
     "metadata": {},
     "output_type": "execute_result"
    }
   ],
   "source": [
    "# splitter demo\n",
    "argx= train_df[\"Name\"][176]\n",
    "extract = splitter(argx)\n",
    "extract"
   ]
  },
  {
   "cell_type": "code",
   "execution_count": 10,
   "metadata": {},
   "outputs": [],
   "source": [
    "# applying the function on train and test dataset\n",
    "train_df['Title'] = train_df[\"Name\"].apply(splitter)\n",
    "test_df['Title'] = test_df[\"Name\"].apply(splitter)"
   ]
  },
  {
   "cell_type": "code",
   "execution_count": 11,
   "metadata": {},
   "outputs": [
    {
     "data": {
      "text/plain": [
       " Mr              517\n",
       " Miss            182\n",
       " Mrs             125\n",
       " Master           40\n",
       " Dr                7\n",
       " Rev               6\n",
       " Mlle              2\n",
       " Col               2\n",
       " Major             2\n",
       " Don               1\n",
       " Mme               1\n",
       " Ms                1\n",
       " the Countess      1\n",
       " Jonkheer          1\n",
       " Capt              1\n",
       " Lady              1\n",
       " Sir               1\n",
       "Name: Title, dtype: int64"
      ]
     },
     "execution_count": 11,
     "metadata": {},
     "output_type": "execute_result"
    }
   ],
   "source": [
    "# tracking the different titles\n",
    "train_df['Title'].value_counts()"
   ]
  },
  {
   "cell_type": "code",
   "execution_count": 12,
   "metadata": {},
   "outputs": [],
   "source": [
    "# grouping titles so that it indicates social status/importance on ship\n",
    "mapping = {\" Mr\":\"Mr\",\n",
    "           \" Miss\":\"Miss\",\n",
    "           \" Mrs\":\"Mrs\",\n",
    "           \" Ms\":\"Mrs\",\n",
    "           \" Master\":\"Master\",\n",
    "           \" Dr\":\"Officer\",\n",
    "           \" Rev\":\"Officer\",\n",
    "           \" Mlle\":\"Miss\",\n",
    "           \" Col\":\"Officer\",\n",
    "           \" Major\":\"Officer\",\n",
    "           \" Ms\":\"Miss\",\n",
    "           \" Capt\":\"Officer\",\n",
    "           \" Sir\":\"Royalty\",\n",
    "           \" Don\":\"Royalty\",\n",
    "           \" Jonkheer\":\"Royalty\",\n",
    "           \" the Countess\":\"Royalty\",\n",
    "           \" Lady\":\"Royalty\",\n",
    "           \" Mme\":\"Mrs\",\n",
    "           \" Dona\": \"Royalty\"}"
   ]
  },
  {
   "cell_type": "code",
   "execution_count": 13,
   "metadata": {},
   "outputs": [],
   "source": [
    "# mapping the new titles\n",
    "train_df[\"title\"] =  train_df['Title'].map(mapping)\n",
    "test_df[\"title\"] = test_df['Title'].map(mapping)"
   ]
  },
  {
   "cell_type": "code",
   "execution_count": 14,
   "metadata": {},
   "outputs": [
    {
     "data": {
      "text/plain": [
       "Mr         240\n",
       "Miss        79\n",
       "Mrs         72\n",
       "Master      21\n",
       "Officer      5\n",
       "Royalty      1\n",
       "Name: title, dtype: int64"
      ]
     },
     "execution_count": 14,
     "metadata": {},
     "output_type": "execute_result"
    }
   ],
   "source": [
    "test_df['title'].value_counts()"
   ]
  },
  {
   "cell_type": "code",
   "execution_count": 15,
   "metadata": {},
   "outputs": [
    {
     "data": {
      "text/html": [
       "<div>\n",
       "<style scoped>\n",
       "    .dataframe tbody tr th:only-of-type {\n",
       "        vertical-align: middle;\n",
       "    }\n",
       "\n",
       "    .dataframe tbody tr th {\n",
       "        vertical-align: top;\n",
       "    }\n",
       "\n",
       "    .dataframe thead th {\n",
       "        text-align: right;\n",
       "    }\n",
       "</style>\n",
       "<table border=\"1\" class=\"dataframe\">\n",
       "  <thead>\n",
       "    <tr style=\"text-align: right;\">\n",
       "      <th>Survived</th>\n",
       "      <th>0</th>\n",
       "      <th>1</th>\n",
       "    </tr>\n",
       "    <tr>\n",
       "      <th>title</th>\n",
       "      <th></th>\n",
       "      <th></th>\n",
       "    </tr>\n",
       "  </thead>\n",
       "  <tbody>\n",
       "    <tr>\n",
       "      <th>Master</th>\n",
       "      <td>17</td>\n",
       "      <td>23</td>\n",
       "    </tr>\n",
       "    <tr>\n",
       "      <th>Miss</th>\n",
       "      <td>55</td>\n",
       "      <td>130</td>\n",
       "    </tr>\n",
       "    <tr>\n",
       "      <th>Mr</th>\n",
       "      <td>436</td>\n",
       "      <td>81</td>\n",
       "    </tr>\n",
       "    <tr>\n",
       "      <th>Mrs</th>\n",
       "      <td>26</td>\n",
       "      <td>100</td>\n",
       "    </tr>\n",
       "    <tr>\n",
       "      <th>Officer</th>\n",
       "      <td>13</td>\n",
       "      <td>5</td>\n",
       "    </tr>\n",
       "    <tr>\n",
       "      <th>Royalty</th>\n",
       "      <td>2</td>\n",
       "      <td>3</td>\n",
       "    </tr>\n",
       "  </tbody>\n",
       "</table>\n",
       "</div>"
      ],
      "text/plain": [
       "Survived    0    1\n",
       "title             \n",
       "Master     17   23\n",
       "Miss       55  130\n",
       "Mr        436   81\n",
       "Mrs        26  100\n",
       "Officer    13    5\n",
       "Royalty     2    3"
      ]
     },
     "execution_count": 15,
     "metadata": {},
     "output_type": "execute_result"
    }
   ],
   "source": [
    "# checking the relationship b/w survival and title\n",
    "train_df.pivot_table(values='PassengerId',index='title',columns='Survived',aggfunc='count')"
   ]
  },
  {
   "cell_type": "code",
   "execution_count": 16,
   "metadata": {},
   "outputs": [
    {
     "data": {
      "text/plain": [
       "<matplotlib.axes._subplots.AxesSubplot at 0x2d02d11f9c8>"
      ]
     },
     "execution_count": 16,
     "metadata": {},
     "output_type": "execute_result"
    },
    {
     "data": {
      "image/png": "[encoded data removed]",
      "text/plain": [
       "<Figure size 432x288 with 1 Axes>"
      ]
     },
     "metadata": {},
     "output_type": "display_data"
    }
   ],
   "source": [
    "sns.barplot(x=train_df['title'],y=train_df['Survived'])"
   ]
  },
  {
   "cell_type": "code",
   "execution_count": 17,
   "metadata": {},
   "outputs": [
    {
     "data": {
      "text/plain": [
       "<matplotlib.axes._subplots.AxesSubplot at 0x2d02d285d08>"
      ]
     },
     "execution_count": 17,
     "metadata": {},
     "output_type": "execute_result"
    },
    {
     "data": {
      "image/png": "[encoded data removed]",
      "text/plain": [
       "<Figure size 432x288 with 1 Axes>"
      ]
     },
     "metadata": {},
     "output_type": "display_data"
    }
   ],
   "source": [
    "train_df.pivot_table(values='PassengerId',index='title',columns='Survived',aggfunc='count').plot(kind='bar',stacked = True)"
   ]
  },
  {
   "cell_type": "markdown",
   "metadata": {},
   "source": [
    "- Various Title classes provide a good estimation about the survival probability and a useful feature for ML model."
   ]
  },
  {
   "cell_type": "markdown",
   "metadata": {},
   "source": [
    "#### C.Age Feature Analysis"
   ]
  },
  {
   "cell_type": "code",
   "execution_count": 18,
   "metadata": {},
   "outputs": [
    {
     "data": {
      "text/plain": [
       "177"
      ]
     },
     "execution_count": 18,
     "metadata": {},
     "output_type": "execute_result"
    }
   ],
   "source": [
    "train_df['Age'].isnull().sum()"
   ]
  },
  {
   "cell_type": "code",
   "execution_count": 19,
   "metadata": {},
   "outputs": [
    {
     "data": {
      "text/plain": [
       "86"
      ]
     },
     "execution_count": 19,
     "metadata": {},
     "output_type": "execute_result"
    }
   ],
   "source": [
    "test_df['Age'].isnull().sum()"
   ]
  },
  {
   "cell_type": "code",
   "execution_count": 20,
   "metadata": {},
   "outputs": [
    {
     "data": {
      "text/plain": [
       "Pclass  Sex     title  \n",
       "1       female  Miss       30.0\n",
       "                Mrs        40.0\n",
       "                Officer    49.0\n",
       "                Royalty    40.5\n",
       "        male    Master      4.0\n",
       "                Mr         40.0\n",
       "                Officer    51.0\n",
       "                Royalty    40.0\n",
       "2       female  Miss       24.0\n",
       "                Mrs        32.0\n",
       "        male    Master      1.0\n",
       "                Mr         31.0\n",
       "                Officer    46.5\n",
       "3       female  Miss       18.0\n",
       "                Mrs        31.0\n",
       "        male    Master      4.0\n",
       "                Mr         26.0\n",
       "Name: Age, dtype: float64"
      ]
     },
     "execution_count": 20,
     "metadata": {},
     "output_type": "execute_result"
    }
   ],
   "source": [
    "# both train and test df have missing age values and requires imputation\n",
    "train_df.groupby(['Pclass','Sex','title']).median()['Age']"
   ]
  },
  {
   "cell_type": "code",
   "execution_count": 21,
   "metadata": {},
   "outputs": [],
   "source": [
    "# the groupby function above sumaarise the age distribution well among pclass,sex and title for imputation\n",
    "train_df['Age'] = train_df.groupby(['Pclass','Sex','title'])['Age'].apply(lambda x: x.fillna(x.median()))\n",
    "test_df['Age'] = test_df.groupby(['Pclass','Sex','title'])['Age'].apply(lambda x: x.fillna(x.median()))"
   ]
  },
  {
   "cell_type": "code",
   "execution_count": 22,
   "metadata": {},
   "outputs": [
    {
     "data": {
      "text/plain": [
       "0"
      ]
     },
     "execution_count": 22,
     "metadata": {},
     "output_type": "execute_result"
    }
   ],
   "source": [
    "test_df['Age'].isnull().sum()"
   ]
  },
  {
   "cell_type": "markdown",
   "metadata": {},
   "source": [
    "#### D.Sex Feature Analysis"
   ]
  },
  {
   "cell_type": "code",
   "execution_count": 23,
   "metadata": {},
   "outputs": [
    {
     "data": {
      "text/plain": [
       "<matplotlib.axes._subplots.AxesSubplot at 0x2d02d326748>"
      ]
     },
     "execution_count": 23,
     "metadata": {},
     "output_type": "execute_result"
    },
    {
     "data": {
      "image/png": "[encoded data removed]",
      "text/plain": [
       "<Figure size 432x288 with 1 Axes>"
      ]
     },
     "metadata": {},
     "output_type": "display_data"
    }
   ],
   "source": [
    "train_df.pivot_table(values='PassengerId',index='Sex',columns='Survived',aggfunc='count').plot(kind = 'bar',stacked = True)"
   ]
  },
  {
   "cell_type": "code",
   "execution_count": 24,
   "metadata": {},
   "outputs": [],
   "source": [
    "# mapping males :0 and female:1 \n",
    "train_df['Sex'] = train_df['Sex'].map({'male':0,'female':1})\n",
    "test_df['Sex'] = test_df['Sex'].map({'male':0,'female':1})"
   ]
  },
  {
   "cell_type": "markdown",
   "metadata": {},
   "source": [
    "- Sex is definitely a powerful predictor of survival and will be useful for ML model"
   ]
  },
  {
   "cell_type": "markdown",
   "metadata": {},
   "source": [
    "#### E.SibSp and ParCh Analysis"
   ]
  },
  {
   "cell_type": "code",
   "execution_count": 25,
   "metadata": {},
   "outputs": [],
   "source": [
    "# SibSp and ParCh point to the same thing, # of family members of each traveller on Titanic. Family Size may affect the survival\n",
    "train_df['Family_Size'] = train_df['SibSp'] + train_df['Parch']\n",
    "test_df['Family_Size'] = test_df['SibSp'] + test_df['Parch']"
   ]
  },
  {
   "cell_type": "code",
   "execution_count": 26,
   "metadata": {},
   "outputs": [
    {
     "data": {
      "text/plain": [
       "Family_Size  Survived\n",
       "0            0           0.696462\n",
       "             1           0.303538\n",
       "1            1           0.552795\n",
       "             0           0.447205\n",
       "2            1           0.578431\n",
       "             0           0.421569\n",
       "3            1           0.724138\n",
       "             0           0.275862\n",
       "4            0           0.800000\n",
       "             1           0.200000\n",
       "5            0           0.863636\n",
       "             1           0.136364\n",
       "6            0           0.666667\n",
       "             1           0.333333\n",
       "7            0           1.000000\n",
       "10           0           1.000000\n",
       "Name: Survived, dtype: float64"
      ]
     },
     "execution_count": 26,
     "metadata": {},
     "output_type": "execute_result"
    }
   ],
   "source": [
    "train_df.groupby(['Family_Size'])['Survived'].value_counts(normalize=True)"
   ]
  },
  {
   "cell_type": "code",
   "execution_count": 27,
   "metadata": {},
   "outputs": [],
   "source": [
    "# clubbing family sizes based on survival chances\n",
    "def club_family(size):\n",
    "    \"\"\"\n",
    "    Assigning family size alone,small or large based on # of family members\n",
    "    \"\"\"\n",
    "    if size == 0:\n",
    "        return 'Alone'\n",
    "    elif (size == 1 or size == 2):\n",
    "        return 'Small'\n",
    "    else:\n",
    "        return 'large'"
   ]
  },
  {
   "cell_type": "code",
   "execution_count": 28,
   "metadata": {},
   "outputs": [],
   "source": [
    "# transform family size using club_family function\n",
    "train_df['Family_Size'] = train_df['Family_Size'].apply(club_family)\n",
    "test_df['Family_Size'] = test_df['Family_Size'].apply(club_family)"
   ]
  },
  {
   "cell_type": "code",
   "execution_count": 29,
   "metadata": {},
   "outputs": [
    {
     "data": {
      "text/plain": [
       "<matplotlib.axes._subplots.AxesSubplot at 0x2d02d3f88c8>"
      ]
     },
     "execution_count": 29,
     "metadata": {},
     "output_type": "execute_result"
    },
    {
     "data": {
      "image/png": "[encoded data removed]",
      "text/plain": [
       "<Figure size 432x288 with 1 Axes>"
      ]
     },
     "metadata": {},
     "output_type": "display_data"
    }
   ],
   "source": [
    "# Analyzing relationship with survival\n",
    "train_df.pivot_table(values='PassengerId',index='Family_Size',columns='Survived',aggfunc='count').plot(kind = 'bar',stacked = True)"
   ]
  },
  {
   "cell_type": "markdown",
   "metadata": {},
   "source": [
    "- Large Families had low survival rates, this goes against my initial assumption that bigger groups managed to survive better \n",
    "than solo travellers"
   ]
  },
  {
   "cell_type": "markdown",
   "metadata": {},
   "source": [
    "#### E.Ticket No. Analysis"
   ]
  },
  {
   "cell_type": "markdown",
   "metadata": {},
   "source": [
    "- Extracting the Intials or Numbers on ticket may provide some insight for survival, however not considering this feature as\n",
    "cabin location encapsulates similar information"
   ]
  },
  {
   "cell_type": "markdown",
   "metadata": {},
   "source": [
    "#### F.Fare Analysis"
   ]
  },
  {
   "cell_type": "code",
   "execution_count": 30,
   "metadata": {},
   "outputs": [
    {
     "data": {
      "text/plain": [
       "0"
      ]
     },
     "execution_count": 30,
     "metadata": {},
     "output_type": "execute_result"
    }
   ],
   "source": [
    "train_df['Fare'].isnull().sum()"
   ]
  },
  {
   "cell_type": "code",
   "execution_count": 31,
   "metadata": {},
   "outputs": [
    {
     "data": {
      "text/plain": [
       "1"
      ]
     },
     "execution_count": 31,
     "metadata": {},
     "output_type": "execute_result"
    }
   ],
   "source": [
    "test_df['Fare'].isnull().sum()"
   ]
  },
  {
   "cell_type": "code",
   "execution_count": 32,
   "metadata": {},
   "outputs": [],
   "source": [
    "# imputing missing value\n",
    "test_df['Fare'] = test_df.groupby(['Pclass'])['Fare'].apply(lambda x : x.fillna(x.median()))"
   ]
  },
  {
   "cell_type": "code",
   "execution_count": 33,
   "metadata": {},
   "outputs": [
    {
     "data": {
      "text/plain": [
       "0"
      ]
     },
     "execution_count": 33,
     "metadata": {},
     "output_type": "execute_result"
    }
   ],
   "source": [
    "test_df['Fare'].isnull().sum()"
   ]
  },
  {
   "cell_type": "code",
   "execution_count": 34,
   "metadata": {},
   "outputs": [
    {
     "data": {
      "text/plain": [
       "<matplotlib.axes._subplots.AxesSubplot at 0x2d02d482508>"
      ]
     },
     "execution_count": 34,
     "metadata": {},
     "output_type": "execute_result"
    },
    {
     "data": {
      "image/png": "[encoded data removed]",
      "text/plain": [
       "<Figure size 1008x504 with 1 Axes>"
      ]
     },
     "metadata": {},
     "output_type": "display_data"
    }
   ],
   "source": [
    "# analyzing relationship b/w fare and survival\n",
    "plt.figure(figsize=(14,7))\n",
    "sns.scatterplot(x=train_df['Fare'], y=train_df['Pclass'], hue=train_df['Survived'])"
   ]
  },
  {
   "cell_type": "markdown",
   "metadata": {},
   "source": [
    "- Although higher fare is improves survival chances,the relationship is not straighforward "
   ]
  },
  {
   "cell_type": "markdown",
   "metadata": {},
   "source": [
    "#### G.Cabin Feature Analysis"
   ]
  },
  {
   "cell_type": "code",
   "execution_count": 35,
   "metadata": {},
   "outputs": [
    {
     "data": {
      "text/plain": [
       "687"
      ]
     },
     "execution_count": 35,
     "metadata": {},
     "output_type": "execute_result"
    }
   ],
   "source": [
    "train_df['Cabin'].isnull().sum()"
   ]
  },
  {
   "cell_type": "code",
   "execution_count": 36,
   "metadata": {},
   "outputs": [
    {
     "data": {
      "text/plain": [
       "327"
      ]
     },
     "execution_count": 36,
     "metadata": {},
     "output_type": "execute_result"
    }
   ],
   "source": [
    "test_df['Cabin'].isnull().sum()"
   ]
  },
  {
   "cell_type": "markdown",
   "metadata": {},
   "source": [
    "- Cabin feature has lots of missing values, still cabin is important feature as the intials of Cabin # indicate the deck no.\n",
    "higher the deck on ship higher the survival chances. For more info: https://www.kaggle.com/c/titanic/discussion/4693"
   ]
  },
  {
   "cell_type": "code",
   "execution_count": 37,
   "metadata": {},
   "outputs": [],
   "source": [
    "# Imputing the missing values with 'Unknown'\n",
    "train_df['Cabin'] = train_df['Cabin'].fillna(\"Unknown\")\n",
    "test_df['Cabin'] = test_df['Cabin'].fillna(\"Unknown\")"
   ]
  },
  {
   "cell_type": "code",
   "execution_count": 38,
   "metadata": {},
   "outputs": [
    {
     "data": {
      "text/plain": [
       "0"
      ]
     },
     "execution_count": 38,
     "metadata": {},
     "output_type": "execute_result"
    }
   ],
   "source": [
    "train_df['Cabin'].isnull().sum()"
   ]
  },
  {
   "cell_type": "code",
   "execution_count": 39,
   "metadata": {},
   "outputs": [],
   "source": [
    "# Extracting the initial letter from cabin string\n",
    "train_df['Cabin'] = train_df['Cabin'].apply(lambda x : x[0])\n",
    "test_df['Cabin'] = test_df['Cabin'].apply(lambda x : x[0])"
   ]
  },
  {
   "cell_type": "code",
   "execution_count": 40,
   "metadata": {},
   "outputs": [
    {
     "data": {
      "text/plain": [
       "U    687\n",
       "C     59\n",
       "B     47\n",
       "D     33\n",
       "E     32\n",
       "A     15\n",
       "F     13\n",
       "G      4\n",
       "T      1\n",
       "Name: Cabin, dtype: int64"
      ]
     },
     "execution_count": 40,
     "metadata": {},
     "output_type": "execute_result"
    }
   ],
   "source": [
    "train_df['Cabin'].value_counts()"
   ]
  },
  {
   "cell_type": "code",
   "execution_count": 41,
   "metadata": {},
   "outputs": [],
   "source": [
    "# removing the single 'T' cabin category as unknown\n",
    "def convertcabin(ele):\n",
    "    if ele == \"T\":\n",
    "        return \"U\"\n",
    "    else:\n",
    "        return ele"
   ]
  },
  {
   "cell_type": "code",
   "execution_count": 42,
   "metadata": {},
   "outputs": [],
   "source": [
    "train_df['Cabin'] = train_df['Cabin'].apply(convertcabin)"
   ]
  },
  {
   "cell_type": "code",
   "execution_count": 43,
   "metadata": {},
   "outputs": [
    {
     "data": {
      "text/plain": [
       "U    688\n",
       "C     59\n",
       "B     47\n",
       "D     33\n",
       "E     32\n",
       "A     15\n",
       "F     13\n",
       "G      4\n",
       "Name: Cabin, dtype: int64"
      ]
     },
     "execution_count": 43,
     "metadata": {},
     "output_type": "execute_result"
    }
   ],
   "source": [
    "train_df['Cabin'].value_counts()"
   ]
  },
  {
   "cell_type": "code",
   "execution_count": 44,
   "metadata": {},
   "outputs": [
    {
     "data": {
      "text/plain": [
       "<matplotlib.axes._subplots.AxesSubplot at 0x2d02d5164c8>"
      ]
     },
     "execution_count": 44,
     "metadata": {},
     "output_type": "execute_result"
    },
    {
     "data": {
      "image/png": "[encoded data removed]",
      "text/plain": [
       "<Figure size 432x288 with 1 Axes>"
      ]
     },
     "metadata": {},
     "output_type": "display_data"
    }
   ],
   "source": [
    "# Analyzing relationship with survival\n",
    "train_df.pivot_table(values='PassengerId',index='Cabin',columns='Survived',aggfunc='count').plot(kind = 'bar',stacked = True)"
   ]
  },
  {
   "cell_type": "code",
   "execution_count": 45,
   "metadata": {},
   "outputs": [
    {
     "data": {
      "text/plain": [
       "<matplotlib.axes._subplots.AxesSubplot at 0x2d02d5b5b08>"
      ]
     },
     "execution_count": 45,
     "metadata": {},
     "output_type": "execute_result"
    },
    {
     "data": {
      "image/png": "[encoded data removed]",
      "text/plain": [
       "<Figure size 432x288 with 1 Axes>"
      ]
     },
     "metadata": {},
     "output_type": "display_data"
    }
   ],
   "source": [
    "sns.barplot(x=train_df['Cabin'],y=train_df['Survived'])"
   ]
  },
  {
   "cell_type": "markdown",
   "metadata": {},
   "source": [
    "- Cabin is definitely a good predictor of likelihood of survival."
   ]
  },
  {
   "cell_type": "markdown",
   "metadata": {},
   "source": [
    "#### H.Embarked Feature Analysis"
   ]
  },
  {
   "cell_type": "code",
   "execution_count": 46,
   "metadata": {},
   "outputs": [
    {
     "data": {
      "text/plain": [
       "2"
      ]
     },
     "execution_count": 46,
     "metadata": {},
     "output_type": "execute_result"
    }
   ],
   "source": [
    "train_df['Embarked'].isnull().sum()"
   ]
  },
  {
   "cell_type": "code",
   "execution_count": 47,
   "metadata": {},
   "outputs": [
    {
     "data": {
      "text/plain": [
       "0"
      ]
     },
     "execution_count": 47,
     "metadata": {},
     "output_type": "execute_result"
    }
   ],
   "source": [
    "test_df['Embarked'].isnull().sum()"
   ]
  },
  {
   "cell_type": "markdown",
   "metadata": {},
   "source": [
    "- train_df has two missing values for embarked, imputing them by (mode of embarked)"
   ]
  },
  {
   "cell_type": "code",
   "execution_count": 48,
   "metadata": {},
   "outputs": [
    {
     "data": {
      "text/plain": [
       "Pclass  Embarked\n",
       "1       C            85\n",
       "        Q             2\n",
       "        S           127\n",
       "2       C            17\n",
       "        Q             3\n",
       "        S           164\n",
       "3       C            66\n",
       "        Q            72\n",
       "        S           353\n",
       "Name: PassengerId, dtype: int64"
      ]
     },
     "execution_count": 48,
     "metadata": {},
     "output_type": "execute_result"
    }
   ],
   "source": [
    "train_df.groupby(['Pclass','Embarked']).count()['PassengerId']\n",
    "# this gives 'S' to be the mode city of boarding"
   ]
  },
  {
   "cell_type": "code",
   "execution_count": 49,
   "metadata": {},
   "outputs": [],
   "source": [
    "# imputing missing values with 'S'\n",
    "train_df['Embarked'].fillna('S',inplace = True)"
   ]
  },
  {
   "cell_type": "code",
   "execution_count": 50,
   "metadata": {},
   "outputs": [
    {
     "data": {
      "text/plain": [
       "0"
      ]
     },
     "execution_count": 50,
     "metadata": {},
     "output_type": "execute_result"
    }
   ],
   "source": [
    "train_df['Embarked'].isnull().sum()"
   ]
  },
  {
   "cell_type": "code",
   "execution_count": 51,
   "metadata": {},
   "outputs": [
    {
     "data": {
      "text/plain": [
       "<matplotlib.axes._subplots.AxesSubplot at 0x2d02d642348>"
      ]
     },
     "execution_count": 51,
     "metadata": {},
     "output_type": "execute_result"
    },
    {
     "data": {
      "image/png": "[encoded data removed]",
      "text/plain": [
       "<Figure size 432x288 with 1 Axes>"
      ]
     },
     "metadata": {},
     "output_type": "display_data"
    }
   ],
   "source": [
    "sns.barplot(x=train_df['Embarked'],y=train_df['Survived'])"
   ]
  },
  {
   "cell_type": "markdown",
   "metadata": {},
   "source": [
    "- Again, different cities of boarding resulted in different survival rates (Did Passengers boarding from city 'C' were placed\n",
    "in better cabins/class?)"
   ]
  },
  {
   "cell_type": "markdown",
   "metadata": {},
   "source": [
    "### 2. Data Prep/Feature Enginnering"
   ]
  },
  {
   "cell_type": "code",
   "execution_count": 52,
   "metadata": {},
   "outputs": [
    {
     "name": "stdout",
     "output_type": "stream",
     "text": [
      "<class 'pandas.core.frame.DataFrame'>\n",
      "RangeIndex: 891 entries, 0 to 890\n",
      "Data columns (total 15 columns):\n",
      " #   Column       Non-Null Count  Dtype  \n",
      "---  ------       --------------  -----  \n",
      " 0   PassengerId  891 non-null    int64  \n",
      " 1   Survived     891 non-null    int64  \n",
      " 2   Pclass       891 non-null    int64  \n",
      " 3   Name         891 non-null    object \n",
      " 4   Sex          891 non-null    int64  \n",
      " 5   Age          891 non-null    float64\n",
      " 6   SibSp        891 non-null    int64  \n",
      " 7   Parch        891 non-null    int64  \n",
      " 8   Ticket       891 non-null    object \n",
      " 9   Fare         891 non-null    float64\n",
      " 10  Cabin        891 non-null    object \n",
      " 11  Embarked     891 non-null    object \n",
      " 12  Title        891 non-null    object \n",
      " 13  title        891 non-null    object \n",
      " 14  Family_Size  891 non-null    object \n",
      "dtypes: float64(2), int64(6), object(7)\n",
      "memory usage: 104.5+ KB\n"
     ]
    }
   ],
   "source": [
    "train_df.info()"
   ]
  },
  {
   "cell_type": "code",
   "execution_count": 53,
   "metadata": {},
   "outputs": [
    {
     "name": "stdout",
     "output_type": "stream",
     "text": [
      "<class 'pandas.core.frame.DataFrame'>\n",
      "RangeIndex: 418 entries, 0 to 417\n",
      "Data columns (total 14 columns):\n",
      " #   Column       Non-Null Count  Dtype  \n",
      "---  ------       --------------  -----  \n",
      " 0   PassengerId  418 non-null    int64  \n",
      " 1   Pclass       418 non-null    int64  \n",
      " 2   Name         418 non-null    object \n",
      " 3   Sex          418 non-null    int64  \n",
      " 4   Age          418 non-null    float64\n",
      " 5   SibSp        418 non-null    int64  \n",
      " 6   Parch        418 non-null    int64  \n",
      " 7   Ticket       418 non-null    object \n",
      " 8   Fare         418 non-null    float64\n",
      " 9   Cabin        418 non-null    object \n",
      " 10  Embarked     418 non-null    object \n",
      " 11  Title        418 non-null    object \n",
      " 12  title        418 non-null    object \n",
      " 13  Family_Size  418 non-null    object \n",
      "dtypes: float64(2), int64(5), object(7)\n",
      "memory usage: 45.8+ KB\n"
     ]
    }
   ],
   "source": [
    "test_df.info()"
   ]
  },
  {
   "cell_type": "markdown",
   "metadata": {},
   "source": [
    "- We have no missing values in dataset and generated new features (title,Family_Size) from existing features to better\n",
    "understand the survival chances."
   ]
  },
  {
   "cell_type": "markdown",
   "metadata": {},
   "source": [
    "#### A.Dropping Obsolete Features\n",
    "- Name(title already extracted),SibSp & Parch (Family_Size extracted), Ticket, Title(correct labels are in title column) can \n",
    "be removed from the dataset as either we removed the relevant info or they had zero predicion power in first place"
   ]
  },
  {
   "cell_type": "code",
   "execution_count": 54,
   "metadata": {},
   "outputs": [],
   "source": [
    "# dropping obsolete features\n",
    "drop_features = ['Name','SibSp','Parch','Ticket','Title']\n",
    "train_df.drop(drop_features,axis=1,inplace=True)\n",
    "test_df.drop(drop_features,axis=1,inplace=True)"
   ]
  },
  {
   "cell_type": "code",
   "execution_count": 55,
   "metadata": {},
   "outputs": [
    {
     "data": {
      "text/html": [
       "<div>\n",
       "<style scoped>\n",
       "    .dataframe tbody tr th:only-of-type {\n",
       "        vertical-align: middle;\n",
       "    }\n",
       "\n",
       "    .dataframe tbody tr th {\n",
       "        vertical-align: top;\n",
       "    }\n",
       "\n",
       "    .dataframe thead th {\n",
       "        text-align: right;\n",
       "    }\n",
       "</style>\n",
       "<table border=\"1\" class=\"dataframe\">\n",
       "  <thead>\n",
       "    <tr style=\"text-align: right;\">\n",
       "      <th></th>\n",
       "      <th>PassengerId</th>\n",
       "      <th>Survived</th>\n",
       "      <th>Pclass</th>\n",
       "      <th>Sex</th>\n",
       "      <th>Age</th>\n",
       "      <th>Fare</th>\n",
       "      <th>Cabin</th>\n",
       "      <th>Embarked</th>\n",
       "      <th>title</th>\n",
       "      <th>Family_Size</th>\n",
       "    </tr>\n",
       "  </thead>\n",
       "  <tbody>\n",
       "    <tr>\n",
       "      <th>0</th>\n",
       "      <td>1</td>\n",
       "      <td>0</td>\n",
       "      <td>3</td>\n",
       "      <td>0</td>\n",
       "      <td>22.0</td>\n",
       "      <td>7.2500</td>\n",
       "      <td>U</td>\n",
       "      <td>S</td>\n",
       "      <td>Mr</td>\n",
       "      <td>Small</td>\n",
       "    </tr>\n",
       "    <tr>\n",
       "      <th>1</th>\n",
       "      <td>2</td>\n",
       "      <td>1</td>\n",
       "      <td>1</td>\n",
       "      <td>1</td>\n",
       "      <td>38.0</td>\n",
       "      <td>71.2833</td>\n",
       "      <td>C</td>\n",
       "      <td>C</td>\n",
       "      <td>Mrs</td>\n",
       "      <td>Small</td>\n",
       "    </tr>\n",
       "    <tr>\n",
       "      <th>2</th>\n",
       "      <td>3</td>\n",
       "      <td>1</td>\n",
       "      <td>3</td>\n",
       "      <td>1</td>\n",
       "      <td>26.0</td>\n",
       "      <td>7.9250</td>\n",
       "      <td>U</td>\n",
       "      <td>S</td>\n",
       "      <td>Miss</td>\n",
       "      <td>Alone</td>\n",
       "    </tr>\n",
       "  </tbody>\n",
       "</table>\n",
       "</div>"
      ],
      "text/plain": [
       "   PassengerId  Survived  Pclass  Sex   Age     Fare Cabin Embarked title  \\\n",
       "0            1         0       3    0  22.0   7.2500     U        S    Mr   \n",
       "1            2         1       1    1  38.0  71.2833     C        C   Mrs   \n",
       "2            3         1       3    1  26.0   7.9250     U        S  Miss   \n",
       "\n",
       "  Family_Size  \n",
       "0       Small  \n",
       "1       Small  \n",
       "2       Alone  "
      ]
     },
     "execution_count": 55,
     "metadata": {},
     "output_type": "execute_result"
    }
   ],
   "source": [
    "train_df.head(3)"
   ]
  },
  {
   "cell_type": "markdown",
   "metadata": {},
   "source": [
    "#### B.Bin Continious Features"
   ]
  },
  {
   "cell_type": "markdown",
   "metadata": {},
   "source": [
    "- I have come across some kaggle notebooks that bin continious features with the assumption that it increases generalization in\n",
    "model and gives better accuracy, however i also came acorss articles suggesting the opposite.\n",
    "- Binning results in loss of information in favor of generalization, also there are no specific cut-points in both \"Age\" and\n",
    "\"Fare\", therefore i refrained from binning continoius data\n",
    "- Useful links : https://web.ma.utexas.edu/users/mks/statmistakes/dividingcontinuousintocategories.html"
   ]
  },
  {
   "cell_type": "markdown",
   "metadata": {},
   "source": [
    "#### C.One-hot/Label Encoding Categorical Features\n",
    "\n",
    "- Categorical Features can't be directly used with most ML Algorithms, it's always a good practice to convert categorical data\n",
    "into dummy variables\n",
    "- Pclass, Cabin, Embarked, title, Family_Size are categorical variables in train/test data\n",
    "- Again with categorical variables we have a choice label encoding vs. one-hot encoding, label encoding makes sense when\n",
    "  when categorical variables is ordinal (Pclass), Pclass is already label encoded.\n",
    "- Cabin, Embarked ,title,Sex and Family_Size should be one-hot encoded before applying any ML algorithm\n",
    "- https://www.analyticsvidhya.com/blog/2020/03/one-hot-encoding-vs-label-encoding-using-scikit-learn/"
   ]
  },
  {
   "cell_type": "code",
   "execution_count": 56,
   "metadata": {},
   "outputs": [],
   "source": [
    "# One-hot enoding with pandas => get_dummies function\n",
    "cat_cols = ['Pclass','Sex','Cabin','Embarked','title','Family_Size']\n",
    "\n",
    "for col in cat_cols:\n",
    "    dummy = pd.get_dummies(train_df[col], drop_first=False)\n",
    "    dummy = dummy.add_prefix('{}_'.format(col))\n",
    "    train_df.drop(col,axis=1,inplace=True)\n",
    "    train_df = train_df.join(dummy)\n",
    "    \n",
    "for col in cat_cols:\n",
    "    dummy = pd.get_dummies(test_df[col], drop_first=False)\n",
    "    dummy = dummy.add_prefix('{}_'.format(col))\n",
    "    test_df.drop(col,axis=1,inplace=True)\n",
    "    test_df = test_df.join(dummy)"
   ]
  },
  {
   "cell_type": "code",
   "execution_count": 57,
   "metadata": {},
   "outputs": [],
   "source": [
    "# rename Sex_0 : Sex_Male and Sex_1 : Sex_Female\n",
    "train_df.rename(columns={'Sex_0': 'Sex_Male', 'Sex_1': 'Sex_Female'},inplace=True)\n",
    "test_df.rename(columns={'Sex_0': 'Sex_Male', 'Sex_1': 'Sex_Female'},inplace=True)"
   ]
  },
  {
   "cell_type": "code",
   "execution_count": 58,
   "metadata": {},
   "outputs": [
    {
     "data": {
      "text/html": [
       "<div>\n",
       "<style scoped>\n",
       "    .dataframe tbody tr th:only-of-type {\n",
       "        vertical-align: middle;\n",
       "    }\n",
       "\n",
       "    .dataframe tbody tr th {\n",
       "        vertical-align: top;\n",
       "    }\n",
       "\n",
       "    .dataframe thead th {\n",
       "        text-align: right;\n",
       "    }\n",
       "</style>\n",
       "<table border=\"1\" class=\"dataframe\">\n",
       "  <thead>\n",
       "    <tr style=\"text-align: right;\">\n",
       "      <th></th>\n",
       "      <th>PassengerId</th>\n",
       "      <th>Survived</th>\n",
       "      <th>Age</th>\n",
       "      <th>Fare</th>\n",
       "      <th>Pclass_1</th>\n",
       "      <th>Pclass_2</th>\n",
       "      <th>Pclass_3</th>\n",
       "      <th>Sex_Male</th>\n",
       "      <th>Sex_Female</th>\n",
       "      <th>Cabin_A</th>\n",
       "      <th>...</th>\n",
       "      <th>Embarked_S</th>\n",
       "      <th>title_Master</th>\n",
       "      <th>title_Miss</th>\n",
       "      <th>title_Mr</th>\n",
       "      <th>title_Mrs</th>\n",
       "      <th>title_Officer</th>\n",
       "      <th>title_Royalty</th>\n",
       "      <th>Family_Size_Alone</th>\n",
       "      <th>Family_Size_Small</th>\n",
       "      <th>Family_Size_large</th>\n",
       "    </tr>\n",
       "  </thead>\n",
       "  <tbody>\n",
       "    <tr>\n",
       "      <th>0</th>\n",
       "      <td>1</td>\n",
       "      <td>0</td>\n",
       "      <td>22.0</td>\n",
       "      <td>7.2500</td>\n",
       "      <td>0</td>\n",
       "      <td>0</td>\n",
       "      <td>1</td>\n",
       "      <td>1</td>\n",
       "      <td>0</td>\n",
       "      <td>0</td>\n",
       "      <td>...</td>\n",
       "      <td>1</td>\n",
       "      <td>0</td>\n",
       "      <td>0</td>\n",
       "      <td>1</td>\n",
       "      <td>0</td>\n",
       "      <td>0</td>\n",
       "      <td>0</td>\n",
       "      <td>0</td>\n",
       "      <td>1</td>\n",
       "      <td>0</td>\n",
       "    </tr>\n",
       "    <tr>\n",
       "      <th>1</th>\n",
       "      <td>2</td>\n",
       "      <td>1</td>\n",
       "      <td>38.0</td>\n",
       "      <td>71.2833</td>\n",
       "      <td>1</td>\n",
       "      <td>0</td>\n",
       "      <td>0</td>\n",
       "      <td>0</td>\n",
       "      <td>1</td>\n",
       "      <td>0</td>\n",
       "      <td>...</td>\n",
       "      <td>0</td>\n",
       "      <td>0</td>\n",
       "      <td>0</td>\n",
       "      <td>0</td>\n",
       "      <td>1</td>\n",
       "      <td>0</td>\n",
       "      <td>0</td>\n",
       "      <td>0</td>\n",
       "      <td>1</td>\n",
       "      <td>0</td>\n",
       "    </tr>\n",
       "    <tr>\n",
       "      <th>2</th>\n",
       "      <td>3</td>\n",
       "      <td>1</td>\n",
       "      <td>26.0</td>\n",
       "      <td>7.9250</td>\n",
       "      <td>0</td>\n",
       "      <td>0</td>\n",
       "      <td>1</td>\n",
       "      <td>0</td>\n",
       "      <td>1</td>\n",
       "      <td>0</td>\n",
       "      <td>...</td>\n",
       "      <td>1</td>\n",
       "      <td>0</td>\n",
       "      <td>1</td>\n",
       "      <td>0</td>\n",
       "      <td>0</td>\n",
       "      <td>0</td>\n",
       "      <td>0</td>\n",
       "      <td>1</td>\n",
       "      <td>0</td>\n",
       "      <td>0</td>\n",
       "    </tr>\n",
       "    <tr>\n",
       "      <th>3</th>\n",
       "      <td>4</td>\n",
       "      <td>1</td>\n",
       "      <td>35.0</td>\n",
       "      <td>53.1000</td>\n",
       "      <td>1</td>\n",
       "      <td>0</td>\n",
       "      <td>0</td>\n",
       "      <td>0</td>\n",
       "      <td>1</td>\n",
       "      <td>0</td>\n",
       "      <td>...</td>\n",
       "      <td>1</td>\n",
       "      <td>0</td>\n",
       "      <td>0</td>\n",
       "      <td>0</td>\n",
       "      <td>1</td>\n",
       "      <td>0</td>\n",
       "      <td>0</td>\n",
       "      <td>0</td>\n",
       "      <td>1</td>\n",
       "      <td>0</td>\n",
       "    </tr>\n",
       "    <tr>\n",
       "      <th>4</th>\n",
       "      <td>5</td>\n",
       "      <td>0</td>\n",
       "      <td>35.0</td>\n",
       "      <td>8.0500</td>\n",
       "      <td>0</td>\n",
       "      <td>0</td>\n",
       "      <td>1</td>\n",
       "      <td>1</td>\n",
       "      <td>0</td>\n",
       "      <td>0</td>\n",
       "      <td>...</td>\n",
       "      <td>1</td>\n",
       "      <td>0</td>\n",
       "      <td>0</td>\n",
       "      <td>1</td>\n",
       "      <td>0</td>\n",
       "      <td>0</td>\n",
       "      <td>0</td>\n",
       "      <td>1</td>\n",
       "      <td>0</td>\n",
       "      <td>0</td>\n",
       "    </tr>\n",
       "  </tbody>\n",
       "</table>\n",
       "<p>5 rows × 29 columns</p>\n",
       "</div>"
      ],
      "text/plain": [
       "   PassengerId  Survived   Age     Fare  Pclass_1  Pclass_2  Pclass_3  \\\n",
       "0            1         0  22.0   7.2500         0         0         1   \n",
       "1            2         1  38.0  71.2833         1         0         0   \n",
       "2            3         1  26.0   7.9250         0         0         1   \n",
       "3            4         1  35.0  53.1000         1         0         0   \n",
       "4            5         0  35.0   8.0500         0         0         1   \n",
       "\n",
       "   Sex_Male  Sex_Female  Cabin_A  ...  Embarked_S  title_Master  title_Miss  \\\n",
       "0         1           0        0  ...           1             0           0   \n",
       "1         0           1        0  ...           0             0           0   \n",
       "2         0           1        0  ...           1             0           1   \n",
       "3         0           1        0  ...           1             0           0   \n",
       "4         1           0        0  ...           1             0           0   \n",
       "\n",
       "   title_Mr  title_Mrs  title_Officer  title_Royalty  Family_Size_Alone  \\\n",
       "0         1          0              0              0                  0   \n",
       "1         0          1              0              0                  0   \n",
       "2         0          0              0              0                  1   \n",
       "3         0          1              0              0                  0   \n",
       "4         1          0              0              0                  1   \n",
       "\n",
       "   Family_Size_Small  Family_Size_large  \n",
       "0                  1                  0  \n",
       "1                  1                  0  \n",
       "2                  0                  0  \n",
       "3                  1                  0  \n",
       "4                  0                  0  \n",
       "\n",
       "[5 rows x 29 columns]"
      ]
     },
     "execution_count": 58,
     "metadata": {},
     "output_type": "execute_result"
    }
   ],
   "source": [
    "train_df.head(5)"
   ]
  },
  {
   "cell_type": "code",
   "execution_count": 59,
   "metadata": {},
   "outputs": [
    {
     "name": "stdout",
     "output_type": "stream",
     "text": [
      "<class 'pandas.core.frame.DataFrame'>\n",
      "RangeIndex: 891 entries, 0 to 890\n",
      "Data columns (total 29 columns):\n",
      " #   Column             Non-Null Count  Dtype  \n",
      "---  ------             --------------  -----  \n",
      " 0   PassengerId        891 non-null    int64  \n",
      " 1   Survived           891 non-null    int64  \n",
      " 2   Age                891 non-null    float64\n",
      " 3   Fare               891 non-null    float64\n",
      " 4   Pclass_1           891 non-null    uint8  \n",
      " 5   Pclass_2           891 non-null    uint8  \n",
      " 6   Pclass_3           891 non-null    uint8  \n",
      " 7   Sex_Male           891 non-null    uint8  \n",
      " 8   Sex_Female         891 non-null    uint8  \n",
      " 9   Cabin_A            891 non-null    uint8  \n",
      " 10  Cabin_B            891 non-null    uint8  \n",
      " 11  Cabin_C            891 non-null    uint8  \n",
      " 12  Cabin_D            891 non-null    uint8  \n",
      " 13  Cabin_E            891 non-null    uint8  \n",
      " 14  Cabin_F            891 non-null    uint8  \n",
      " 15  Cabin_G            891 non-null    uint8  \n",
      " 16  Cabin_U            891 non-null    uint8  \n",
      " 17  Embarked_C         891 non-null    uint8  \n",
      " 18  Embarked_Q         891 non-null    uint8  \n",
      " 19  Embarked_S         891 non-null    uint8  \n",
      " 20  title_Master       891 non-null    uint8  \n",
      " 21  title_Miss         891 non-null    uint8  \n",
      " 22  title_Mr           891 non-null    uint8  \n",
      " 23  title_Mrs          891 non-null    uint8  \n",
      " 24  title_Officer      891 non-null    uint8  \n",
      " 25  title_Royalty      891 non-null    uint8  \n",
      " 26  Family_Size_Alone  891 non-null    uint8  \n",
      " 27  Family_Size_Small  891 non-null    uint8  \n",
      " 28  Family_Size_large  891 non-null    uint8  \n",
      "dtypes: float64(2), int64(2), uint8(25)\n",
      "memory usage: 49.7 KB\n"
     ]
    }
   ],
   "source": [
    "train_df.info()"
   ]
  },
  {
   "cell_type": "code",
   "execution_count": 60,
   "metadata": {},
   "outputs": [
    {
     "name": "stdout",
     "output_type": "stream",
     "text": [
      "<class 'pandas.core.frame.DataFrame'>\n",
      "RangeIndex: 418 entries, 0 to 417\n",
      "Data columns (total 28 columns):\n",
      " #   Column             Non-Null Count  Dtype  \n",
      "---  ------             --------------  -----  \n",
      " 0   PassengerId        418 non-null    int64  \n",
      " 1   Age                418 non-null    float64\n",
      " 2   Fare               418 non-null    float64\n",
      " 3   Pclass_1           418 non-null    uint8  \n",
      " 4   Pclass_2           418 non-null    uint8  \n",
      " 5   Pclass_3           418 non-null    uint8  \n",
      " 6   Sex_Male           418 non-null    uint8  \n",
      " 7   Sex_Female         418 non-null    uint8  \n",
      " 8   Cabin_A            418 non-null    uint8  \n",
      " 9   Cabin_B            418 non-null    uint8  \n",
      " 10  Cabin_C            418 non-null    uint8  \n",
      " 11  Cabin_D            418 non-null    uint8  \n",
      " 12  Cabin_E            418 non-null    uint8  \n",
      " 13  Cabin_F            418 non-null    uint8  \n",
      " 14  Cabin_G            418 non-null    uint8  \n",
      " 15  Cabin_U            418 non-null    uint8  \n",
      " 16  Embarked_C         418 non-null    uint8  \n",
      " 17  Embarked_Q         418 non-null    uint8  \n",
      " 18  Embarked_S         418 non-null    uint8  \n",
      " 19  title_Master       418 non-null    uint8  \n",
      " 20  title_Miss         418 non-null    uint8  \n",
      " 21  title_Mr           418 non-null    uint8  \n",
      " 22  title_Mrs          418 non-null    uint8  \n",
      " 23  title_Officer      418 non-null    uint8  \n",
      " 24  title_Royalty      418 non-null    uint8  \n",
      " 25  Family_Size_Alone  418 non-null    uint8  \n",
      " 26  Family_Size_Small  418 non-null    uint8  \n",
      " 27  Family_Size_large  418 non-null    uint8  \n",
      "dtypes: float64(2), int64(1), uint8(25)\n",
      "memory usage: 20.1 KB\n"
     ]
    }
   ],
   "source": [
    "test_df.info()"
   ]
  },
  {
   "cell_type": "markdown",
   "metadata": {},
   "source": [
    "#### D.Splitting Features and Outcome"
   ]
  },
  {
   "cell_type": "code",
   "execution_count": 61,
   "metadata": {},
   "outputs": [],
   "source": [
    "# setting PassengerId as index\n",
    "Xtr_total = train_df.set_index('PassengerId')\n",
    "Xts_total = test_df.set_index('PassengerId')"
   ]
  },
  {
   "cell_type": "code",
   "execution_count": 62,
   "metadata": {},
   "outputs": [],
   "source": [
    "# Extracting X and y\n",
    "X_train = Xtr_total.drop('Survived',axis=1)\n",
    "y_train = Xtr_total['Survived']\n",
    "X_test = Xts_total"
   ]
  },
  {
   "cell_type": "code",
   "execution_count": 63,
   "metadata": {},
   "outputs": [
    {
     "data": {
      "text/plain": [
       "((418, 27), (891, 27), (891,))"
      ]
     },
     "execution_count": 63,
     "metadata": {},
     "output_type": "execute_result"
    }
   ],
   "source": [
    "X_test.shape, X_train.shape,y_train.shape"
   ]
  },
  {
   "cell_type": "markdown",
   "metadata": {},
   "source": [
    "#### E.Selecting Best Features"
   ]
  },
  {
   "cell_type": "code",
   "execution_count": 64,
   "metadata": {},
   "outputs": [],
   "source": [
    "from sklearn.ensemble import ExtraTreesClassifier"
   ]
  },
  {
   "cell_type": "code",
   "execution_count": 65,
   "metadata": {},
   "outputs": [
    {
     "data": {
      "text/plain": [
       "ExtraTreesClassifier(bootstrap=False, ccp_alpha=0.0, class_weight=None,\n",
       "                     criterion='gini', max_depth=None, max_features='auto',\n",
       "                     max_leaf_nodes=None, max_samples=None,\n",
       "                     min_impurity_decrease=0.0, min_impurity_split=None,\n",
       "                     min_samples_leaf=1, min_samples_split=2,\n",
       "                     min_weight_fraction_leaf=0.0, n_estimators=100,\n",
       "                     n_jobs=None, oob_score=False, random_state=None, verbose=0,\n",
       "                     warm_start=False)"
      ]
     },
     "execution_count": 65,
     "metadata": {},
     "output_type": "execute_result"
    }
   ],
   "source": [
    "model = ExtraTreesClassifier()\n",
    "model.fit(X_train,y_train)"
   ]
  },
  {
   "cell_type": "code",
   "execution_count": 66,
   "metadata": {},
   "outputs": [
    {
     "data": {
      "image/png": "[encoded data removed]",
      "text/plain": [
       "<Figure size 432x288 with 1 Axes>"
      ]
     },
     "metadata": {},
     "output_type": "display_data"
    }
   ],
   "source": [
    "feat_importances = pd.Series(model.feature_importances_,index=X_train.columns)\n",
    "feat_importances.nlargest(13).plot(kind='barh')\n",
    "plt.show()"
   ]
  },
  {
   "cell_type": "code",
   "execution_count": 67,
   "metadata": {
    "scrolled": true
   },
   "outputs": [
    {
     "data": {
      "text/plain": [
       "Fare                 0.210904\n",
       "Age                  0.210286\n",
       "title_Mr             0.118568\n",
       "Sex_Male             0.083758\n",
       "Sex_Female           0.072542\n",
       "Pclass_3             0.040836\n",
       "Cabin_U              0.031604\n",
       "Pclass_1             0.025742\n",
       "title_Miss           0.023239\n",
       "Pclass_2             0.021700\n",
       "title_Mrs            0.021350\n",
       "Family_Size_large    0.020663\n",
       "Family_Size_Small    0.019187\n",
       "dtype: float64"
      ]
     },
     "execution_count": 67,
     "metadata": {},
     "output_type": "execute_result"
    }
   ],
   "source": [
    "feat_importances.nlargest(13)"
   ]
  },
  {
   "cell_type": "code",
   "execution_count": 68,
   "metadata": {},
   "outputs": [
    {
     "data": {
      "text/plain": [
       "['Fare',\n",
       " 'Age',\n",
       " 'title_Mr',\n",
       " 'Sex_Male',\n",
       " 'Sex_Female',\n",
       " 'Pclass_3',\n",
       " 'Cabin_U',\n",
       " 'Pclass_1',\n",
       " 'title_Miss',\n",
       " 'Pclass_2',\n",
       " 'title_Mrs',\n",
       " 'Family_Size_large',\n",
       " 'Family_Size_Small']"
      ]
     },
     "execution_count": 68,
     "metadata": {},
     "output_type": "execute_result"
    }
   ],
   "source": [
    "bestfeat1 = feat_importances.nlargest(13).index.tolist()\n",
    "bestfeat1"
   ]
  },
  {
   "cell_type": "code",
   "execution_count": 69,
   "metadata": {},
   "outputs": [],
   "source": [
    "# best features using a diffrent tree\n",
    "from sklearn.ensemble import RandomForestClassifier\n",
    "model2 = RandomForestClassifier(n_estimators = 15,\n",
    "                                criterion = 'gini',\n",
    "                                max_features = 'sqrt',\n",
    "                                max_depth = None,                                \n",
    "                                min_samples_split =7,\n",
    "                                min_weight_fraction_leaf = 0.0,\n",
    "                                max_leaf_nodes = 18)"
   ]
  },
  {
   "cell_type": "code",
   "execution_count": 70,
   "metadata": {},
   "outputs": [
    {
     "data": {
      "image/png": "[encoded data removed]",
      "text/plain": [
       "<Figure size 432x288 with 1 Axes>"
      ]
     },
     "metadata": {},
     "output_type": "display_data"
    }
   ],
   "source": [
    "model2 = model2.fit(X_train, y_train)\n",
    "feat_importances_2 = pd.Series(model2.feature_importances_,index=X_train.columns)\n",
    "feat_importances_2.nlargest(13).plot(kind='barh')\n",
    "plt.show()"
   ]
  },
  {
   "cell_type": "code",
   "execution_count": 71,
   "metadata": {},
   "outputs": [
    {
     "data": {
      "text/plain": [
       "['Sex_Male',\n",
       " 'title_Mr',\n",
       " 'Fare',\n",
       " 'Sex_Female',\n",
       " 'title_Miss',\n",
       " 'Cabin_U',\n",
       " 'Age',\n",
       " 'Pclass_3',\n",
       " 'title_Mrs',\n",
       " 'Family_Size_large',\n",
       " 'Pclass_1',\n",
       " 'title_Master',\n",
       " 'Family_Size_Small']"
      ]
     },
     "execution_count": 71,
     "metadata": {},
     "output_type": "execute_result"
    }
   ],
   "source": [
    "bestfeat2 = feat_importances_2.nlargest(13).index.tolist()\n",
    "bestfeat2"
   ]
  },
  {
   "cell_type": "code",
   "execution_count": 72,
   "metadata": {},
   "outputs": [
    {
     "data": {
      "text/plain": [
       "((891, 27), (418, 27), (891,))"
      ]
     },
     "execution_count": 72,
     "metadata": {},
     "output_type": "execute_result"
    }
   ],
   "source": [
    "# Keeping multiple feature sets\n",
    "# I am trying to understand the importance of feature selection therefore i will test the model on all features & best features\n",
    "# With all features\n",
    "X_train.shape,X_test.shape,y_train.shape"
   ]
  },
  {
   "cell_type": "code",
   "execution_count": 73,
   "metadata": {},
   "outputs": [],
   "source": [
    "# with best features\n",
    "Xi_train = X_train[bestfeat2]\n",
    "Xi_test = X_test[bestfeat2]"
   ]
  },
  {
   "cell_type": "code",
   "execution_count": 74,
   "metadata": {},
   "outputs": [
    {
     "data": {
      "text/plain": [
       "((418, 13), (891, 13), (891,))"
      ]
     },
     "execution_count": 74,
     "metadata": {},
     "output_type": "execute_result"
    }
   ],
   "source": [
    "Xi_test.shape,Xi_train.shape,y_train.shape"
   ]
  },
  {
   "cell_type": "markdown",
   "metadata": {},
   "source": [
    "### 3.Grid_Search and Model"
   ]
  },
  {
   "cell_type": "code",
   "execution_count": 75,
   "metadata": {},
   "outputs": [],
   "source": [
    "# splitting the train and validation sets\n",
    "from sklearn.model_selection import train_test_split"
   ]
  },
  {
   "cell_type": "code",
   "execution_count": 76,
   "metadata": {},
   "outputs": [],
   "source": [
    "X_train,X_valid,Y_train,Y_valid = train_test_split(Xi_train,y_train,test_size=0.3,random_state=42)"
   ]
  },
  {
   "cell_type": "code",
   "execution_count": 77,
   "metadata": {},
   "outputs": [],
   "source": [
    "# tuning the random forest"
   ]
  },
  {
   "cell_type": "code",
   "execution_count": 78,
   "metadata": {},
   "outputs": [
    {
     "data": {
      "image/png": "[encoded data removed]",
      "text/plain": [
       "<Figure size 1080x720 with 7 Axes>"
      ]
     },
     "metadata": {},
     "output_type": "display_data"
    }
   ],
   "source": [
    "plt.figure(figsize=(15,10))\n",
    "\n",
    "# Estimators\n",
    "plt.subplot(3,3,1)\n",
    "estimator_param = [10,100,200,500]\n",
    "scores = []\n",
    "for feature in estimator_param:\n",
    "    modelx = RandomForestClassifier(n_estimators=feature)\n",
    "    modelx.fit(X_train,Y_train)\n",
    "    scores.append(modelx.score(X_valid,Y_valid))\n",
    "plt.plot(estimator_param,scores, '.-')\n",
    "plt.axis('tight')\n",
    "plt.title('N Estimators')\n",
    "plt.grid();\n",
    "\n",
    "#Criterion\n",
    "plt.subplot(3,3,2)\n",
    "feature_param = ['gini','entropy']\n",
    "scores=[]\n",
    "for feature in feature_param:\n",
    "    modelx = RandomForestClassifier(criterion=feature)\n",
    "    modelx.fit(X_train,Y_train)\n",
    "    scores.append(modelx.score(X_valid,Y_valid))\n",
    "plt.plot(scores, '.-')\n",
    "plt.title('Criterion')\n",
    "plt.xticks(range(len(feature_param)), feature_param)\n",
    "plt.grid();\n",
    "\n",
    "#Max Features\n",
    "plt.subplot(3,3,3)\n",
    "feature_param = ['auto','sqrt','log2',None]\n",
    "scores=[]\n",
    "for feature in feature_param:\n",
    "    modelx = RandomForestClassifier(max_features=feature)\n",
    "    modelx.fit(X_train,Y_train)\n",
    "    scores.append(modelx.score(X_valid,Y_valid))\n",
    "plt.plot(scores, '.-')\n",
    "plt.axis('tight')\n",
    "plt.title('Max Features')\n",
    "plt.xticks(range(len(feature_param)), feature_param)\n",
    "plt.grid();\n",
    "\n",
    "#Max Depth\n",
    "plt.subplot(3,3,4)\n",
    "feature_param = range(1,21)\n",
    "scores=[]\n",
    "for feature in feature_param:\n",
    "    modelx = RandomForestClassifier(max_depth=feature)\n",
    "    modelx.fit(X_train,Y_train)\n",
    "    scores.append(modelx.score(X_valid,Y_valid))\n",
    "plt.plot(feature_param, scores, '.-')\n",
    "plt.axis('tight')\n",
    "plt.title('Max Depth')\n",
    "plt.grid();\n",
    "\n",
    "#Min Samples Split\n",
    "plt.subplot(3,3,5)\n",
    "feature_param = range(1,21)\n",
    "scores=[]\n",
    "for feature in feature_param:\n",
    "    model = RandomForestClassifier(min_samples_split =feature)\n",
    "    modelx.fit(X_train,Y_train)\n",
    "    scores.append(modelx.score(X_valid,Y_valid))\n",
    "plt.plot(feature_param, scores, '.-')\n",
    "plt.axis('tight')\n",
    "plt.title('Min Samples Split')\n",
    "plt.grid();\n",
    "\n",
    "#Min Weight Fraction Leaf\n",
    "plt.subplot(3,3,6)\n",
    "feature_param = np.linspace(0,0.5,10)\n",
    "scores=[]\n",
    "for feature in feature_param:\n",
    "    modelx = RandomForestClassifier(min_weight_fraction_leaf =feature)\n",
    "    modelx.fit(X_train,Y_train)\n",
    "    scores.append(modelx.score(X_valid,Y_valid))\n",
    "plt.plot(feature_param, scores, '.-')\n",
    "plt.axis('tight')\n",
    "plt.title('Min Weight Fraction Leaf')\n",
    "plt.grid();\n",
    "\n",
    "#Max Leaf Nodes\n",
    "plt.subplot(3,3,7)\n",
    "feature_param = range(2,21)\n",
    "scores=[]\n",
    "for feature in feature_param:\n",
    "    modelx = RandomForestClassifier(max_leaf_nodes=feature)\n",
    "    modelx.fit(X_train,Y_train)\n",
    "    scores.append(modelx.score(X_valid,Y_valid))\n",
    "plt.plot(feature_param, scores, '.-')\n",
    "plt.axis('tight')\n",
    "plt.title('Max Leaf Nodes')\n",
    "plt.grid();"
   ]
  },
  {
   "cell_type": "code",
   "execution_count": 79,
   "metadata": {},
   "outputs": [],
   "source": [
    "# import grid-search\n",
    "from sklearn.model_selection import GridSearchCV, StratifiedKFold"
   ]
  },
  {
   "cell_type": "code",
   "execution_count": 80,
   "metadata": {},
   "outputs": [
    {
     "name": "stdout",
     "output_type": "stream",
     "text": [
      "Best score: 0.8316238779737619\n",
      "Best parameters: {'criterion': 'gini', 'max_depth': 6, 'max_features': 'sqrt', 'max_leaf_nodes': 9, 'min_samples_split': 13, 'min_weight_fraction_leaf': 0.0, 'n_estimators': 150}\n"
     ]
    }
   ],
   "source": [
    "# tune the model\n",
    "forest = RandomForestClassifier(max_depth = 150,                                \n",
    "                                min_samples_split =7,\n",
    "                                min_weight_fraction_leaf = 0.05,\n",
    "                                max_leaf_nodes = 13)\n",
    "\n",
    "parameter_grid = {'n_estimators' : [150,250],\n",
    "                  'criterion' : ['gini', 'entropy'],\n",
    "                  'max_features' : ['auto', 'sqrt', 'log2'],\n",
    "                  'max_depth' : [5,6,7],\n",
    "                  'min_samples_split' : [12,13,14],\n",
    "                  'min_weight_fraction_leaf' : [0.0,0.1],\n",
    "                  'max_leaf_nodes' : [8,9]\n",
    "                 }\n",
    "\n",
    "grid_search = GridSearchCV(forest, param_grid=parameter_grid, cv=StratifiedKFold(5))\n",
    "grid_search.fit(Xi_train,y_train)\n",
    "print('Best score: {}'.format(grid_search.best_score_))\n",
    "print('Best parameters: {}'.format(grid_search.best_params_))"
   ]
  },
  {
   "cell_type": "code",
   "execution_count": 81,
   "metadata": {},
   "outputs": [
    {
     "data": {
      "text/plain": [
       "(891, 13)"
      ]
     },
     "execution_count": 81,
     "metadata": {},
     "output_type": "execute_result"
    }
   ],
   "source": [
    "Xi_train.shape"
   ]
  },
  {
   "cell_type": "code",
   "execution_count": 82,
   "metadata": {},
   "outputs": [
    {
     "data": {
      "text/plain": [
       "(891,)"
      ]
     },
     "execution_count": 82,
     "metadata": {},
     "output_type": "execute_result"
    }
   ],
   "source": [
    "y_train.shape"
   ]
  },
  {
   "cell_type": "code",
   "execution_count": 83,
   "metadata": {},
   "outputs": [
    {
     "data": {
      "text/plain": [
       "0.8395522388059702"
      ]
     },
     "execution_count": 83,
     "metadata": {},
     "output_type": "execute_result"
    }
   ],
   "source": [
    "# Applying tuned Random Forest classifier\n",
    "modelf = RandomForestClassifier(n_estimators = 150,\n",
    "                                criterion = 'gini',\n",
    "                                max_features = 'sqrt',\n",
    "                                max_depth = 6,                                \n",
    "                                min_samples_split = 13,\n",
    "                                min_weight_fraction_leaf = 0.0,\n",
    "                                max_leaf_nodes = 9)\n",
    "\n",
    "modelf.fit(Xi_train,y_train)\n",
    "y_pred = modelf.predict(Xi_test)\n",
    "\n",
    "modelf.score(X_valid,Y_valid)"
   ]
  },
  {
   "cell_type": "code",
   "execution_count": 85,
   "metadata": {},
   "outputs": [],
   "source": [
    "# submission file\n",
    "\n",
    "submission = pd.DataFrame({\n",
    "        'PassengerId': test_df['PassengerId'],\n",
    "        'Survived': y_pred\n",
    "    })\n",
    "submission.to_csv('titanic_pred.csv', index=False)"
   ]
  },
  {
   "cell_type": "code",
   "execution_count": null,
   "metadata": {},
   "outputs": [],
   "source": []
  }
 ],
 "metadata": {
  "kernelspec": {
   "display_name": "Python 3",
   "language": "python",
   "name": "python3"
  },
  "language_info": {
   "codemirror_mode": {
    "name": "ipython",
    "version": 3
   },
   "file_extension": ".py",
   "mimetype": "text/x-python",
   "name": "python",
   "nbconvert_exporter": "python",
   "pygments_lexer": "ipython3",
   "version": "3.7.6"
  }
 },
 "nbformat": 4,
 "nbformat_minor": 4
}
